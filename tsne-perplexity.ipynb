{
 "cells": [
  {
   "cell_type": "code",
   "execution_count": 1,
   "metadata": {},
   "outputs": [],
   "source": [
    "import numpy as np\n",
    "import pandas as pd\n",
    "from matplotlib import pyplot as plt\n",
    "import db_utils\n",
    "from dataset_utils import load_dataset\n",
    "\n",
    "%load_ext autoreload\n",
    "%autoreload 2\n",
    "# %matplotlib inline"
   ]
  },
  {
   "cell_type": "code",
   "execution_count": 2,
   "metadata": {},
   "outputs": [
    {
     "name": "stdout",
     "output_type": "stream",
     "text": [
      "Loading dataset: COIL20\n"
     ]
    }
   ],
   "source": [
    "datasets = [\n",
    "    'MNIST-SMALL',\n",
    "    'COIL20',\n",
    "    'COUNTRY-2014',\n",
    "    'BREAST-CANCER95',\n",
    "    'MPI',\n",
    "    'DIABETES'\n",
    "]\n",
    "\n",
    "dataset_name = 'COIL20'\n",
    "embedding_dir = './output/{}'.format(dataset_name)\n",
    "X, y, labels = load_dataset(dataset_name)"
   ]
  },
  {
   "cell_type": "code",
   "execution_count": null,
   "metadata": {},
   "outputs": [],
   "source": [
    "# load calculated embedding for different value of perplexity\n",
    "import joblib\n",
    "import os\n",
    "\n",
    "embeddings = []\n",
    "perps = []\n",
    "\n",
    "for file in os.listdir(embedding_dir):\n",
    "    if file.endswith('.z'):\n",
    "        in_name = os.path.join(embedding_dir, file)\n",
    "        tsne_obj = joblib.load(in_name)\n",
    "        embeddings.append(tsne_obj.embedding_.ravel())\n",
    "        perps.append(tsne_obj.get_params()['perplexity'])\n",
    "        \n",
    "embeddings = np.array(embeddings)"
   ]
  },
  {
   "cell_type": "code",
   "execution_count": null,
   "metadata": {},
   "outputs": [],
   "source": [
    "print(len(perps), embeddings.shape)"
   ]
  },
  {
   "cell_type": "code",
   "execution_count": null,
   "metadata": {},
   "outputs": [],
   "source": [
    "# find the most closed perplexity to the given rounded value\n",
    "# e.g, given `rounded_perp = 5`, return `real_perp = 5.014803659274878`\n",
    "\n",
    "def _approximated_closed(rounded_perp):\n",
    "    # always return the closet real_perp\n",
    "    diff = [abs(real_perp - rounded_perp) for real_perp in perps]\n",
    "    idx = diff.index(min(diff))\n",
    "    return perps[idx]"
   ]
  },
  {
   "cell_type": "code",
   "execution_count": null,
   "metadata": {},
   "outputs": [],
   "source": [
    "_approximated_closed(5)"
   ]
  },
  {
   "cell_type": "code",
   "execution_count": null,
   "metadata": {},
   "outputs": [],
   "source": [
    "def _scatter(ax, rounded_perp_val):\n",
    "    perp_val = _approximated_closed(rounded_perp_val)\n",
    "    idx = perps.index(perp_val)\n",
    "    emb = embeddings[idx].reshape(-1,2)\n",
    "    ax.scatter(emb[:, 0], emb[:, 1], c=y, alpha=0.3, cmap='tab10')\n",
    "    ax.axes.set_xlabel('perplexity={}'.format(rounded_perp_val))\n",
    "    ax.set_xticklabels([])\n",
    "    ax.tick_params('x', length=0)\n",
    "    ax.get_yaxis().set_visible(False)"
   ]
  },
  {
   "cell_type": "code",
   "execution_count": null,
   "metadata": {},
   "outputs": [],
   "source": [
    "rounded_perp_vals = [1, 5, 20, 50, 1500]\n",
    "\n",
    "fig, axes = plt.subplots(1, len(rounded_perp_vals), figsize=(20,5))\n",
    "\n",
    "for i, rounded_perp_val in enumerate(rounded_perp_vals):\n",
    "    ax = axes[i]\n",
    "    _scatter(ax, rounded_perp_val)\n",
    "\n",
    "plt.rcParams.update({'font.size': 16})\n",
    "plt.tight_layout()\n",
    "plt.savefig('./plots/{}_examples.pdf'.format(dataset_name))"
   ]
  },
  {
   "cell_type": "markdown",
   "metadata": {},
   "source": [
    "### Show the mannual constraints in the embedding (update 20181012)"
   ]
  },
  {
   "cell_type": "code",
   "execution_count": 3,
   "metadata": {},
   "outputs": [],
   "source": [
    "# load the constraint from file\n",
    "import pickle\n",
    "\n",
    "constraint_file = './output/manual_constraints/{}.pkl'.format(dataset_name)\n",
    "constraints = pickle.load(open(constraint_file, 'rb'))\n",
    "must_links = constraints['mustlinks']\n",
    "cannot_links = constraints['cannotlinks']"
   ]
  },
  {
   "cell_type": "code",
   "execution_count": 41,
   "metadata": {},
   "outputs": [
    {
     "data": {
      "text/plain": [
       "[[7, 27], [1169, 860], [366, 1043], [1003, 22], [1104, 1348]]"
      ]
     },
     "execution_count": 41,
     "metadata": {},
     "output_type": "execute_result"
    }
   ],
   "source": [
    "must_links"
   ]
  },
  {
   "cell_type": "code",
   "execution_count": 10,
   "metadata": {},
   "outputs": [],
   "source": [
    "from sklearn.manifold import TSNE\n",
    "from matplotlib import pyplot as plt\n",
    "from matplotlib.offsetbox import OffsetImage, AnnotationBbox\n",
    "from io import BytesIO\n",
    "import struct\n",
    "import base64"
   ]
  },
  {
   "cell_type": "code",
   "execution_count": 17,
   "metadata": {},
   "outputs": [],
   "source": [
    "tsne = TSNE(perplexity=50, random_state=2018)"
   ]
  },
  {
   "cell_type": "code",
   "execution_count": 18,
   "metadata": {},
   "outputs": [],
   "source": [
    "X2d = tsne.fit_transform(X)"
   ]
  },
  {
   "cell_type": "code",
   "execution_count": 79,
   "metadata": {},
   "outputs": [
    {
     "data": {
      "text/plain": [
       "[[917, 834], [150, 306], [1391, 1035], [1216, 875], [623, 638]]"
      ]
     },
     "execution_count": 79,
     "metadata": {},
     "output_type": "execute_result"
    }
   ],
   "source": [
    "# get position of constrained points\n",
    "ml_pos = np.array([ (X2d[a], X2d[b]) for (a,b) in must_links ])\n",
    "cl_pos = np.array([ (X2d[a], X2d[b]) for (a,b) in cannot_links ])\n",
    "cannot_links"
   ]
  },
  {
   "cell_type": "code",
   "execution_count": 84,
   "metadata": {},
   "outputs": [],
   "source": [
    "# manual get the positions of moving points\n",
    "\n",
    "ml_img_pos = np.array([\n",
    " [[18, 12],\n",
    " [38, 20]],\n",
    " [[33, 40],\n",
    " [-9, 40]],\n",
    " [[-38, -18],\n",
    " [-31, -50]],\n",
    " [[-5, 25],\n",
    " [18, 25]],\n",
    " [[39, -5],\n",
    " [19, -1]]\n",
    "])\n",
    "\n",
    "cl_img_pos =  np.array([\n",
    " [[11, -22],\n",
    " [-33, -25]],\n",
    " [[-46, 8],\n",
    " [18, -8]],\n",
    " [[-34, 6],\n",
    " [-30, -46]],\n",
    " [[32, -15],\n",
    " [-31, 30]],\n",
    " [[-46, 37],\n",
    " [19, 42]]\n",
    "])"
   ]
  },
  {
   "cell_type": "code",
   "execution_count": 94,
   "metadata": {},
   "outputs": [],
   "source": [
    "# Note the unusual workflow:\n",
    "# set GET_POSITION_MODE on or off\n",
    "# ONLY WORK WITH ONE TYPE OF CONSTRAINT AT A TIME\n",
    "# in the GET_POSITION_MODE (on), show the id of the constrained points\n",
    "# remember to show the list of constrained point (one type of constraint)\n",
    "# click to qt-scatter to select the position for image of each point (remember to click in order)\n",
    "# Must convert the list of clicked points into the list of positions as in `ml_img_pos`\n",
    "\n",
    "%matplotlib qt\n",
    "fig, ax = plt.subplots(figsize=(12, 10))\n",
    "GET_POSITION_MODE = False\n",
    "\n",
    "# scatter plot for the embedding\n",
    "ax.scatter(X2d[:,0], X2d[:,1], c=y, alpha=0.1, cmap='tab10')\n",
    "plt.axis('off')\n",
    "\n",
    "if GET_POSITION_MODE:\n",
    "    plt.axis('on')\n",
    "    info = []\n",
    "    \n",
    "    def onclick(event):\n",
    "        # print(event)\n",
    "        info.append([int(event.xdata), int(event.ydata)])\n",
    "    cid = fig.canvas.mpl_connect('button_press_event', onclick)\n",
    "\n",
    "artists = []\n",
    "\n",
    "def show_image(idx, x, y, box_x, box_y, zoom=1., img_size=32):\n",
    "    if GET_POSITION_MODE:\n",
    "        ax.annotate(str(idx), xy=(x,y), xytext=(x,y))\n",
    "        # print('show: ', idx, x, y)\n",
    "    else:\n",
    "        # ax.annotate(str(idx), xy=(x,y), xytext=(x,y))\n",
    "        image_data = 255.0 - X[idx].reshape(img_size, img_size).T\n",
    "        im = OffsetImage(image_data, zoom=zoom, cmap='gray')\n",
    "        ab = AnnotationBbox(\n",
    "            im,\n",
    "            xy=(x, y),\n",
    "            xybox=(box_x, box_y),\n",
    "            xycoords='data',\n",
    "            frameon=False,\n",
    "            arrowprops=dict(arrowstyle=\"->\", linestyle=':', alpha=0.5)\n",
    "        )\n",
    "        artists.append(ax.add_artist(ab))\n",
    "\n",
    "# plot the constraints\n",
    "def plot_links(links, point_ids, img_pos, style='-', color='black'):\n",
    "    for ([pa, pb], [ia, ib], [img_a, img_b]) in zip(links, point_ids, img_pos):\n",
    "        x_pos = [pa[0], pb[0]]\n",
    "        y_pos = [pa[1], pb[1]]\n",
    "        ax.plot(x_pos, y_pos, linestyle=style, color=color, lw=1.)\n",
    "        ax.scatter(x=x_pos, y=y_pos, marker='o', color=color)\n",
    "        \n",
    "        # show 2 image ia, ib\n",
    "        show_image(ia, pa[0], pa[1], box_x=img_a[0], box_y=img_a[1])\n",
    "        show_image(ib, pb[0], pb[1], box_x=img_b[0], box_y=img_b[1])\n",
    "        \n",
    "plot_links(links=ml_pos, point_ids=must_links, img_pos=ml_img_pos, style='-', color='blue')\n",
    "# plot_links(links=cl_pos, point_ids=cannot_links, img_pos=cl_img_pos, style=':', color='red')\n",
    "\n",
    "plt.tight_layout()\n",
    "plt.savefig('./plots/example_constrains_COIL20_ML.pdf')"
   ]
  },
  {
   "cell_type": "code",
   "execution_count": 83,
   "metadata": {},
   "outputs": [
    {
     "data": {
      "text/plain": [
       "[[11, -22],\n",
       " [-33, -25],\n",
       " [-46, 8],\n",
       " [18, -8],\n",
       " [-34, 6],\n",
       " [-30, -46],\n",
       " [32, -15],\n",
       " [-31, 30],\n",
       " [-46, 37],\n",
       " [19, 42]]"
      ]
     },
     "execution_count": 83,
     "metadata": {},
     "output_type": "execute_result"
    }
   ],
   "source": [
    "info"
   ]
  }
 ],
 "metadata": {
  "kernelspec": {
   "display_name": "Python 3",
   "language": "python",
   "name": "python3"
  },
  "language_info": {
   "codemirror_mode": {
    "name": "ipython",
    "version": 3
   },
   "file_extension": ".py",
   "mimetype": "text/x-python",
   "name": "python",
   "nbconvert_exporter": "python",
   "pygments_lexer": "ipython3",
   "version": "3.6.6"
  }
 },
 "nbformat": 4,
 "nbformat_minor": 2
}
