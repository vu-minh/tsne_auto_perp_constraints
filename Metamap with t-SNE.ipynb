{
 "cells": [
  {
   "cell_type": "markdown",
   "metadata": {},
   "source": [
    "### Plot metamap for the resulted embedding using tsne"
   ]
  },
  {
   "cell_type": "code",
   "execution_count": 1,
   "metadata": {},
   "outputs": [],
   "source": [
    "import numpy as np\n",
    "from sklearn.manifold import TSNE\n",
    "from dataset_utils import load_dataset"
   ]
  },
  {
   "cell_type": "markdown",
   "metadata": {},
   "source": [
    "#### Read all calculated embedding from pickle file into memory"
   ]
  },
  {
   "cell_type": "code",
   "execution_count": 2,
   "metadata": {},
   "outputs": [
    {
     "name": "stdout",
     "output_type": "stream",
     "text": [
      "Loading dataset: MNIST-SMALL\n"
     ]
    }
   ],
   "source": [
    "dataset_name = 'MNIST-SMALL'\n",
    "embedding_dir = './output/{}'.format(dataset_name)\n",
    "X, y, labels = load_dataset(dataset_name)"
   ]
  },
  {
   "cell_type": "code",
   "execution_count": 4,
   "metadata": {},
   "outputs": [],
   "source": [
    "# load calculated embedding for different value of perplexity\n",
    "import joblib\n",
    "import os\n",
    "\n",
    "embeddings = []\n",
    "perps = []\n",
    "all_losses = []\n",
    "\n",
    "for file in os.listdir(embedding_dir):\n",
    "    if file.endswith('z'):\n",
    "        in_name = os.path.join(embedding_dir, file)\n",
    "        tsne_obj = joblib.load(in_name)\n",
    "        embeddings.append(tsne_obj.embedding_.ravel())\n",
    "        all_losses.append(tsne_obj.kl_divergence_)\n",
    "        perps.append(tsne_obj.get_params()['perplexity'])"
   ]
  },
  {
   "cell_type": "code",
   "execution_count": 5,
   "metadata": {},
   "outputs": [],
   "source": [
    "# build metatmap\n",
    "\n",
    "from sklearn.preprocessing import normalize, scale\n",
    "\n",
    "all_embeddings = np.array(embeddings)\n",
    "meta_tsne = TSNE(random_state=0)\n",
    "meta_map = meta_tsne.fit_transform(all_embeddings)"
   ]
  },
  {
   "cell_type": "code",
   "execution_count": 12,
   "metadata": {},
   "outputs": [],
   "source": [
    "from bqplot import LinearScale, ColorScale, OrdinalColorScale, Axis, ColorAxis, Scatter, Figure\n",
    "from bqplot.colorschemes import CATEGORY10\n",
    "from ipywidgets import VBox, HBox\n",
    "\n",
    "# meta scatter\n",
    "sc_color = ColorScale()\n",
    "ax_color = ColorAxis(scale=sc_color, label='Perplexity', orientation='vertical', side='left')\n",
    "scatter = Scatter(x=meta_map[:, 0], y=meta_map[:, 1], color=perps, stroke='black',\n",
    "                  scales={'x': LinearScale(), 'y': LinearScale(), 'color': sc_color})\n",
    "\n",
    "# child scatter\n",
    "sc_color2 = OrdinalColorScale(colors=CATEGORY10)\n",
    "ax_color2 = ColorAxis(scale=sc_color2, label='Class', orientation='vertical', side='right')\n",
    "child_scatter = Scatter(x=[], y=[], color=y, scales={'x': LinearScale(), 'y': LinearScale(), 'color': sc_color2}, default_size=12)\n",
    "\n",
    "scat_fig = Figure(axes=[ax_color], marks=[scatter], title='Metamap for {}'.format(dataset_name))\n",
    "child_fig = Figure(axes=[ax_color2],marks=[child_scatter], title='Detail view')"
   ]
  },
  {
   "cell_type": "code",
   "execution_count": 15,
   "metadata": {},
   "outputs": [],
   "source": [
    "def plot_detail(name, value):\n",
    "    idx = value['data']['index']\n",
    "    perp = perps[idx]\n",
    "    X2d = all_embeddings[idx].reshape(-1, 2)\n",
    "    # with child_scatter.hold_sync():\n",
    "    child_scatter.x = X2d[:, 0]\n",
    "    child_scatter.y = X2d[:, 1]\n",
    "    child_fig.title = 'Detail scatter for perp = {}'.format(perp)\n",
    "    \n",
    "scatter.on_element_click(plot_detail)"
   ]
  },
  {
   "cell_type": "code",
   "execution_count": 16,
   "metadata": {},
   "outputs": [
    {
     "data": {
      "application/vnd.jupyter.widget-view+json": {
       "model_id": "7afbe520cd864032894585ce26460b23",
       "version_major": 2,
       "version_minor": 0
      },
      "text/plain": [
       "HBox(children=(Figure(axes=[ColorAxis(label='Perplexity', orientation='vertical', scale=ColorScale(), side='le…"
      ]
     },
     "metadata": {},
     "output_type": "display_data"
    }
   ],
   "source": [
    "HBox([scat_fig, child_fig])"
   ]
  }
 ],
 "metadata": {
  "kernelspec": {
   "display_name": "Python 3",
   "language": "python",
   "name": "python3"
  },
  "language_info": {
   "codemirror_mode": {
    "name": "ipython",
    "version": 3
   },
   "file_extension": ".py",
   "mimetype": "text/x-python",
   "name": "python",
   "nbconvert_exporter": "python",
   "pygments_lexer": "ipython3",
   "version": "3.6.4"
  }
 },
 "nbformat": 4,
 "nbformat_minor": 2
}
