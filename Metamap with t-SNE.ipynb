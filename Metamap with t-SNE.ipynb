{
 "cells": [
  {
   "cell_type": "markdown",
   "metadata": {},
   "source": [
    "### Plot metamap for the resulted embedding using tsne"
   ]
  },
  {
   "cell_type": "code",
   "execution_count": 6,
   "metadata": {},
   "outputs": [
    {
     "name": "stdout",
     "output_type": "stream",
     "text": [
      "The autoreload extension is already loaded. To reload it, use:\n",
      "  %reload_ext autoreload\n"
     ]
    }
   ],
   "source": [
    "%load_ext autoreload\n",
    "%autoreload 2\n",
    "\n",
    "import numpy as np\n",
    "from sklearn.manifold import TSNE\n",
    "from dataset_utils import load_dataset"
   ]
  },
  {
   "cell_type": "markdown",
   "metadata": {},
   "source": [
    "#### Read all calculated embedding from pickle file into memory"
   ]
  },
  {
   "cell_type": "code",
   "execution_count": 7,
   "metadata": {},
   "outputs": [
    {
     "name": "stdout",
     "output_type": "stream",
     "text": [
      "Loading dataset: COIL20\n"
     ]
    }
   ],
   "source": [
    "dataset_name = 'COIL20'\n",
    "embedding_dir = './output/{}'.format(dataset_name)\n",
    "X, y, labels = load_dataset(dataset_name)"
   ]
  },
  {
   "cell_type": "code",
   "execution_count": 8,
   "metadata": {},
   "outputs": [],
   "source": [
    "# load calculated embedding for different value of perplexity\n",
    "import joblib\n",
    "import os\n",
    "\n",
    "embeddings = []\n",
    "perps = []\n",
    "all_losses = []\n",
    "\n",
    "for file in os.listdir(embedding_dir):\n",
    "    if file.endswith('.z'):\n",
    "        in_name = os.path.join(embedding_dir, file)\n",
    "        tsne_obj = joblib.load(in_name)\n",
    "        embeddings.append(tsne_obj.embedding_.ravel())\n",
    "        all_losses.append(tsne_obj.kl_divergence_)\n",
    "        perps.append(tsne_obj.get_params()['perplexity'])\n",
    "        \n",
    "embeddings = np.array(embeddings)"
   ]
  },
  {
   "cell_type": "code",
   "execution_count": null,
   "metadata": {},
   "outputs": [],
   "source": [
    "# build metamap with different perplexities\n",
    "from matplotlib import pyplot as plt\n",
    "%matplotlib inline\n",
    "\n",
    "meta_perps = [2, 5, 10, 20, 30, 35, 40, 45, 50, 75, 100, 150]\n",
    "meta_maps = []\n",
    "\n",
    "for meta_perp in meta_perps:\n",
    "    a_meta_map = TSNE(perplexity=meta_perp, random_state=0).fit_transform(embeddings)\n",
    "    meta_maps.append(a_meta_map)"
   ]
  },
  {
   "cell_type": "code",
   "execution_count": null,
   "metadata": {},
   "outputs": [],
   "source": [
    "# plot metamap with \n",
    "mfig, maxes = plt.subplots(3, 4, figsize=(20, 15))\n",
    "\n",
    "for i, meta_perp in enumerate(meta_perps):\n",
    "    r = i//4\n",
    "    c = i%4\n",
    "    map2d = meta_maps[i]\n",
    "    maxes[r][c].scatter(map2d[:,0], map2d[:,1], c=np.log(perps))\n",
    "    maxes[r][c].set_title('metamap perp={}'.format(meta_perp))\n",
    "mfig.suptitle('Metamap for {} \\n (Colored by log of perplexity)'.format(dataset_name))\n",
    "\n",
    "plt.savefig('./plots/[{}]metamap'.format(dataset_name))\n",
    "plt.show()"
   ]
  },
  {
   "cell_type": "code",
   "execution_count": null,
   "metadata": {},
   "outputs": [],
   "source": [
    "meta_tsne = TSNE(perplexity=40, random_state=0)\n",
    "meta_map = meta_tsne.fit_transform(embeddings)\n",
    "print(meta_tsne)"
   ]
  },
  {
   "cell_type": "code",
   "execution_count": null,
   "metadata": {},
   "outputs": [],
   "source": [
    "from bqplot import LinearScale, ColorScale, OrdinalColorScale, Axis, ColorAxis, Scatter, Figure\n",
    "from bqplot.colorschemes import CATEGORY10, CATEGORY20\n",
    "from ipywidgets import VBox, HBox\n",
    "\n",
    "# meta scatter\n",
    "sc_color = ColorScale()\n",
    "ax_color = ColorAxis(scale=sc_color, label='Log of Perplexity', orientation='vertical', side='bottom')\n",
    "scatter = Scatter(x=meta_map[:, 0], y=meta_map[:, 1], color=np.log(perps), stroke='black',\n",
    "                  scales={'x': LinearScale(), 'y': LinearScale(), 'color': sc_color})\n",
    "\n",
    "# child scatter\n",
    "sc_color2 = OrdinalColorScale(colors=CATEGORY20)\n",
    "ax_color2 = ColorAxis(scale=sc_color2, label='Class', orientation='horizontal', side='right')\n",
    "child_scatter = Scatter(x=[], y=[], color=y, scales={'x': LinearScale(), 'y': LinearScale(), 'color': sc_color2}, default_size=12)\n",
    "\n",
    "scat_fig = Figure(axes=[ax_color], marks=[scatter], title='Metamap for {}'.format(dataset_name))\n",
    "child_fig = Figure(axes=[ax_color2],marks=[child_scatter], title='Detail view')"
   ]
  },
  {
   "cell_type": "code",
   "execution_count": null,
   "metadata": {},
   "outputs": [],
   "source": [
    "def plot_detail(name, value):\n",
    "    idx = value['data']['index']\n",
    "    perp = perps[idx]\n",
    "    X2d = all_embeddings[idx].reshape(-1, 2)\n",
    "    # with child_scatter.hold_sync():\n",
    "    child_scatter.x = X2d[:, 0]\n",
    "    child_scatter.y = X2d[:, 1]\n",
    "    child_fig.title = 'Detail scatter for perp = {}'.format(perp)\n",
    "    \n",
    "scatter.on_element_click(plot_detail)"
   ]
  },
  {
   "cell_type": "code",
   "execution_count": null,
   "metadata": {},
   "outputs": [],
   "source": [
    "HBox([scat_fig, child_fig])"
   ]
  },
  {
   "cell_type": "code",
   "execution_count": null,
   "metadata": {},
   "outputs": [],
   "source": []
  }
 ],
 "metadata": {
  "kernelspec": {
   "display_name": "Python 3",
   "language": "python",
   "name": "python3"
  },
  "language_info": {
   "codemirror_mode": {
    "name": "ipython",
    "version": 3
   },
   "file_extension": ".py",
   "mimetype": "text/x-python",
   "name": "python",
   "nbconvert_exporter": "python",
   "pygments_lexer": "ipython3",
   "version": "3.6.4"
  }
 },
 "nbformat": 4,
 "nbformat_minor": 2
}
